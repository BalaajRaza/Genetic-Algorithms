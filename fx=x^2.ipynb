{
 "cells": [
  {
   "cell_type": "markdown",
   "metadata": {},
   "source": [
    "### Maximize f(x) = x^2 using genetic algorithm, where x ranges from 0-31"
   ]
  },
  {
   "cell_type": "markdown",
   "metadata": {},
   "source": [
    "Step 1 : Initialize Random Population\n"
   ]
  },
  {
   "cell_type": "code",
   "execution_count": 43,
   "metadata": {},
   "outputs": [],
   "source": [
    "import random\n",
    "population_size = 10\n",
    "\n",
    "\n",
    "generations = {\n",
    "    \"0\" : [bin(random.randint(0,31))[2:].zfill(5) for _ in range(population_size)]\n",
    "}\n"
   ]
  },
  {
   "cell_type": "markdown",
   "metadata": {},
   "source": [
    "Step 2: Fitness function"
   ]
  },
  {
   "cell_type": "code",
   "execution_count": 2,
   "metadata": {},
   "outputs": [],
   "source": [
    "def binary_to_decimal(binary):\n",
    "    return int(binary, 2)\n",
    "\n",
    "def fitness_function(x):\n",
    "    return x**2"
   ]
  },
  {
   "cell_type": "markdown",
   "metadata": {},
   "source": [
    "Step 3: Evaluation Function\n"
   ]
  },
  {
   "cell_type": "code",
   "execution_count": 3,
   "metadata": {},
   "outputs": [],
   "source": [
    "def evaluation_function(population):\n",
    "    fitness_values = {chromosome : fitness_function(binary_to_decimal(chromosome)) for chromosome in population}\n",
    "    return fitness_values"
   ]
  },
  {
   "cell_type": "markdown",
   "metadata": {},
   "source": [
    "Step 4: Selection Function\n"
   ]
  },
  {
   "cell_type": "code",
   "execution_count": 4,
   "metadata": {},
   "outputs": [],
   "source": [
    "def roulette_selection(population , fitness_values , num_parents):\n",
    "    total_fitness = sum(fitness_values.values())\n",
    "    selection_probabilities = {chromosome:fitness/total_fitness for chromosome,fitness in fitness_values.items()}\n",
    "    \n",
    "    selected_parents = random.choices(\n",
    "        list(selection_probabilities.keys()),\n",
    "        weights=list(selection_probabilities.values()),\n",
    "        k=num_parents\n",
    "        )\n",
    "    \n",
    "    return selected_parents"
   ]
  },
  {
   "cell_type": "markdown",
   "metadata": {},
   "source": [
    "Step 5: Crossover Function\n"
   ]
  },
  {
   "cell_type": "code",
   "execution_count": 5,
   "metadata": {},
   "outputs": [
    {
     "name": "stdout",
     "output_type": "stream",
     "text": [
      "Parent 1: 11010\n",
      "Parent 2: 00101\n",
      "Child 1: 11101\n",
      "Child 2: 00010\n"
     ]
    }
   ],
   "source": [
    "def crossover_function(chromA , chromB):\n",
    "    cut_point = random.randint(1, len(chromA) - 2)\n",
    "    child1 = chromA[:cut_point] + chromB[cut_point:]\n",
    "    child2 = chromB[:cut_point] + chromA[cut_point:]\n",
    "    return child1, child2\n",
    "\n",
    "parent1 = \"11010\"\n",
    "parent2 = \"00101\"\n",
    "\n",
    "child1, child2 = crossover_function(parent1, parent2)\n",
    "print(\"Parent 1:\", parent1)\n",
    "print(\"Parent 2:\", parent2)\n",
    "print(\"Child 1:\", child1)\n",
    "print(\"Child 2:\", child2)\n"
   ]
  },
  {
   "cell_type": "markdown",
   "metadata": {},
   "source": [
    "Step 6: Mutation Function\n"
   ]
  },
  {
   "cell_type": "code",
   "execution_count": 6,
   "metadata": {},
   "outputs": [
    {
     "name": "stdout",
     "output_type": "stream",
     "text": [
      "Original: 10101010001\n",
      "Mutated : 11101010101\n"
     ]
    }
   ],
   "source": [
    "def mutation_function(chromosome , mutation_rate = 0.2):\n",
    "    mutated_chromosome = \"\"\n",
    "    \n",
    "    for bit in chromosome:\n",
    "        if random.random() < mutation_rate:\n",
    "            mutated_chromosome += \"0\" if bit == \"1\" else \"1\"\n",
    "        else:\n",
    "            mutated_chromosome += bit\n",
    "\n",
    "    return mutated_chromosome\n",
    "\n",
    "\n",
    "chromosome = \"10101010001\"\n",
    "mutated_chromosome = mutation_function(chromosome, mutation_rate=0.2)\n",
    "\n",
    "print(\"Original:\", chromosome)\n",
    "print(\"Mutated :\", mutated_chromosome)"
   ]
  },
  {
   "cell_type": "markdown",
   "metadata": {},
   "source": [
    "Step 7: Full Generation Cycle"
   ]
  },
  {
   "cell_type": "code",
   "execution_count": 7,
   "metadata": {},
   "outputs": [],
   "source": [
    "def evolve_generation(generations, generation_num, num_parents, mutation_rate=0.2, num_of_elites=2, all_elites=[]):\n",
    "    population = generations[str(generation_num)]\n",
    "    fitness_values = {chrom: fitness_function(binary_to_decimal(chrom)) for chrom in population}\n",
    "\n",
    "    if num_parents % 2 == 1 and num_parents + 1 <= len(population):\n",
    "        num_parents += 1\n",
    "\n",
    "    #Select Elites\n",
    "    sorted_chromosomes = sorted(fitness_values, key=fitness_values.get, reverse=True)\n",
    "    elites = sorted_chromosomes[:num_of_elites]\n",
    "    for elite in elites:\n",
    "        if elite not in all_elites:\n",
    "            all_elites.append(elite)\n",
    "\n",
    "    #Select Parents\n",
    "    parents = roulette_selection(population, fitness_values, num_parents)\n",
    "\n",
    "    #Crossover + Child Mutation\n",
    "    offsprings = []\n",
    "    for i in range(0, len(parents) - 1, 2):\n",
    "        child1, child2 = crossover_function(parents[i], parents[i+1])\n",
    "        offsprings.append(mutation_function(child1,mutation_rate))\n",
    "        offsprings.append(mutation_function(child2,mutation_rate))\n",
    "\n",
    "\n",
    "    #Select Remaining Chromosomes (excluding elites & children) and Mutate\n",
    "    remaining_pool = [chrom for chrom in population if chrom not in elites and chrom not in offsprings]\n",
    "    mutated_chromosomes = [mutation_function(chrom, mutation_rate) for chrom in remaining_pool]\n",
    "\n",
    "    #Create Next Generation\n",
    "    next_gen = elites + offsprings + mutated_chromosomes\n",
    "\n",
    "    #Ensure Population Size is Maintained\n",
    "    while len(next_gen) < len(population):\n",
    "        next_gen.append(random.choice(population))\n",
    "    next_gen = next_gen[:len(population)]\n",
    "\n",
    "    generations[str(generation_num + 1)] = next_gen\n",
    "    return generations, all_elites\n"
   ]
  },
  {
   "cell_type": "markdown",
   "metadata": {},
   "source": [
    "Step 8: Run Genetic Algorithm\n"
   ]
  },
  {
   "cell_type": "code",
   "execution_count": 8,
   "metadata": {},
   "outputs": [],
   "source": [
    "def run_genetic_algorithm(generations , num_of_gens , num_parents=4 , mutation_rate = 0.2 , num_elites = 2):\n",
    "\n",
    "    all_elites = []\n",
    "    for gen in range(num_of_gens):\n",
    "        generations , all_elites = evolve_generation(\n",
    "            generations,\n",
    "            gen,\n",
    "            num_parents,\n",
    "            mutation_rate,\n",
    "            num_elites,\n",
    "            all_elites\n",
    "        )\n",
    "    \n",
    "    best_solution = max(all_elites , key= lambda chrom: fitness_function(binary_to_decimal(chrom)))\n",
    "    best_value = binary_to_decimal(best_solution)\n",
    "    best_fitness = fitness_function(best_value)\n",
    "\n",
    "    print(\"\\n===== Genetic Algorithm Results =====\")\n",
    "    print(f\"Total Generations Run: {num_of_gens}\")\n",
    "    print(f\"Best Overall Solution: {best_solution} (Decimal: {best_value}) with Fitness: {best_fitness}\")\n",
    "\n",
    "    return best_solution,best_value,best_fitness,generations\n",
    "\n",
    "\n",
    "\n",
    "    "
   ]
  },
  {
   "cell_type": "code",
   "execution_count": 9,
   "metadata": {},
   "outputs": [
    {
     "name": "stdout",
     "output_type": "stream",
     "text": [
      "\n",
      "===== Genetic Algorithm Results =====\n",
      "Total Generations Run: 10\n",
      "Best Overall Solution: 11111 (Decimal: 31) with Fitness: 961\n"
     ]
    }
   ],
   "source": [
    "\n",
    "import random\n",
    "population_size = 10\n",
    "generations = {\n",
    "    \"0\" : [bin(random.randint(0,31))[2:].zfill(5) for _ in range(population_size)]\n",
    "}\n",
    "best_chromosome, best_x, best_fitness,generations = run_genetic_algorithm(generations, num_of_gens=10)\n",
    "#num of max generations = 10\n",
    "#num of parents = 4\n",
    "#num of elites = 2\n",
    "#mutation rate = 0.2"
   ]
  },
  {
   "cell_type": "code",
   "execution_count": 10,
   "metadata": {},
   "outputs": [
    {
     "name": "stdout",
     "output_type": "stream",
     "text": [
      "Gen 0 : ['01111', '10011', '10011', '01010', '11111', '01110', '10001', '01101', '11100', '01111']\n",
      "Gen 1 : ['11111', '11100', '10011', '10010', '11110', '11000', '01111', '11100', '01110', '10101']\n",
      "Gen 2 : ['11111', '11110', '01010', '11011', '00110', '11111', '11100', '10011', '11001', '11100']\n",
      "Gen 3 : ['11111', '11110', '11110', '10110', '00000', '11111', '01010', '01111', '00010', '11101']\n",
      "Gen 4 : ['11111', '11110', '01001', '11110', '00101', '11101', '10100', '01001', '01010', '01001']\n",
      "Gen 5 : ['11111', '11110', '10011', '11111', '01111', '11011', '01001', '01111', '11101', '11101']\n",
      "Gen 6 : ['11111', '11110', '10110', '11101', '11111', '01111', '10010', '01011', '01001', '11111']\n",
      "Gen 7 : ['11111', '11110', '11110', '11110', '11111', '11001', '00110', '11001', '01111', '10110']\n",
      "Gen 8 : ['11111', '11110', '10011', '11011', '01111', '01001', '10100', '01110', '11011', '00110']\n",
      "Gen 9 : ['11111', '11110', '00100', '10101', '11011', '11011', '00001', '01011', '01101', '11100']\n",
      "Gen 10 : ['11111', '11110', '11100', '11111', '01001', '11111', '00100', '10101', '10011', '11001']\n"
     ]
    }
   ],
   "source": [
    "for gen_num , population in generations.items():\n",
    "    print(f\"Gen {gen_num} : {population}\")"
   ]
  },
  {
   "cell_type": "code",
   "execution_count": null,
   "metadata": {},
   "outputs": [],
   "source": []
  }
 ],
 "metadata": {
  "kernelspec": {
   "display_name": "Python 3",
   "language": "python",
   "name": "python3"
  },
  "language_info": {
   "codemirror_mode": {
    "name": "ipython",
    "version": 3
   },
   "file_extension": ".py",
   "mimetype": "text/x-python",
   "name": "python",
   "nbconvert_exporter": "python",
   "pygments_lexer": "ipython3",
   "version": "3.11.8"
  }
 },
 "nbformat": 4,
 "nbformat_minor": 2
}
