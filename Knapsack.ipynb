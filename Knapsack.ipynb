{
 "cells": [
  {
   "cell_type": "markdown",
   "metadata": {},
   "source": [
    "# Knapsack Problem Using Genetic Algorithm\n"
   ]
  },
  {
   "cell_type": "code",
   "execution_count": 1,
   "metadata": {},
   "outputs": [],
   "source": [
    "import random"
   ]
  },
  {
   "cell_type": "markdown",
   "metadata": {},
   "source": [
    "Random Initial Population\n"
   ]
  },
  {
   "cell_type": "code",
   "execution_count": 2,
   "metadata": {},
   "outputs": [],
   "source": [
    "def initialize_population(population_size , num_of_items):\n",
    "    population = []\n",
    "    for _ in range(population_size):\n",
    "        individual = \"\".join(str(random.randint(0, 1)) for _ in range(num_of_items))\n",
    "        population.append(individual)\n",
    "    return population\n"
   ]
  },
  {
   "cell_type": "markdown",
   "metadata": {},
   "source": [
    "Fitness Function"
   ]
  },
  {
   "cell_type": "code",
   "execution_count": 3,
   "metadata": {},
   "outputs": [],
   "source": [
    "def fitness_function(chromosome , items , max_weight):\n",
    "    total_value = 0\n",
    "    total_weight = 0\n",
    "    for i in range(len(chromosome)):\n",
    "        if chromosome[i] == '1':\n",
    "            total_value += items[\"N\"+str(i+1)][0]\n",
    "            total_weight += items[\"N\"+str(i+1)][1]\n",
    "    \n",
    "    if total_weight <= max_weight:\n",
    "        return total_value\n",
    "    else:\n",
    "        return 0\n",
    "    \n"
   ]
  },
  {
   "cell_type": "markdown",
   "metadata": {},
   "source": [
    "Evaluation Function\n"
   ]
  },
  {
   "cell_type": "code",
   "execution_count": 4,
   "metadata": {},
   "outputs": [],
   "source": [
    "def evaluation_function(population , items , max_weight):\n",
    "    fitness_values = {chromosome : fitness_function(chromosome , items , max_weight) for chromosome in population}\n",
    "    return fitness_values"
   ]
  },
  {
   "cell_type": "markdown",
   "metadata": {},
   "source": [
    "Selection Function (Tournament Selection)"
   ]
  },
  {
   "cell_type": "code",
   "execution_count": 5,
   "metadata": {},
   "outputs": [],
   "source": [
    "def tournament_selection(population , fitness_values , k=3):\n",
    "    selected_chromosomes = random.sample(population , k)\n",
    "    selected_chromosomes.sort(key = lambda chrom:fitness_values[chrom] , reverse=True)\n",
    "    return selected_chromosomes[0]\n"
   ]
  },
  {
   "cell_type": "markdown",
   "metadata": {},
   "source": [
    "One-Point Crossover\n"
   ]
  },
  {
   "cell_type": "code",
   "execution_count": 6,
   "metadata": {},
   "outputs": [],
   "source": [
    "def crossover_function(chromA , chromB):\n",
    "    cut_point = random.randint(1, len(chromA) - 2)\n",
    "    child1 = chromA[:cut_point] + chromB[cut_point:]\n",
    "    child2 = chromB[:cut_point] + chromA[cut_point:]\n",
    "    return child1, child2\n",
    "    "
   ]
  },
  {
   "cell_type": "markdown",
   "metadata": {},
   "source": [
    "Mutation Function"
   ]
  },
  {
   "cell_type": "code",
   "execution_count": 7,
   "metadata": {},
   "outputs": [],
   "source": [
    "def mutation_function(chromosome , mutation_rate = 0.2):\n",
    "    mutated_chromosome = \"\"\n",
    "    \n",
    "    for bit in chromosome:\n",
    "        if random.random() < mutation_rate:\n",
    "            mutated_chromosome += \"0\" if bit == \"1\" else \"1\"\n",
    "        else:\n",
    "            mutated_chromosome += bit\n",
    "\n",
    "    return mutated_chromosome"
   ]
  },
  {
   "cell_type": "markdown",
   "metadata": {},
   "source": [
    "Full Generation Cycle\n"
   ]
  },
  {
   "cell_type": "code",
   "execution_count": 8,
   "metadata": {},
   "outputs": [],
   "source": [
    "def evolve_generation(generations, generation_num, population_size, items, max_weight, mutation_rate=0.2, tournament_k=3):\n",
    "    population = generations[str(generation_num)]\n",
    "    fitness_values = evaluation_function(population,items,max_weight)\n",
    "\n",
    "    new_population = []\n",
    "\n",
    "    while len(new_population) < population_size:\n",
    "        parent1 = tournament_selection(population , fitness_values , tournament_k)\n",
    "        parent2 = tournament_selection(population , fitness_values , tournament_k)\n",
    "\n",
    "        child1,child2 = crossover_function(parent1 , parent2)\n",
    "\n",
    "        child1 = mutation_function(child1,mutation_rate)\n",
    "        child2 = mutation_function(child2,mutation_rate)\n",
    "\n",
    "        if len(new_population) < population_size:\n",
    "            new_population.append(child2)\n",
    "    \n",
    "    generations[str(generation_num+1)] = new_population\n",
    "    return generations\n"
   ]
  },
  {
   "cell_type": "markdown",
   "metadata": {},
   "source": [
    "Driver Code"
   ]
  },
  {
   "cell_type": "code",
   "execution_count": 9,
   "metadata": {},
   "outputs": [],
   "source": [
    "def run_knapsack_problem(generations,max_generations,population_size,items,max_weight,mutation_rate=0.1,tournament_k=3):\n",
    "    best_solution = None\n",
    "    best_fitness = 0\n",
    "\n",
    "    for gen in range(max_generations):\n",
    "        generations = evolve_generation(\n",
    "            generations, \n",
    "            gen,\n",
    "            population_size,\n",
    "            items, \n",
    "            max_weight, \n",
    "            mutation_rate, \n",
    "            tournament_k\n",
    "        )\n",
    "    \n",
    "        current_pop = generations[str(gen+1)]\n",
    "        fitness_values = evaluation_function(current_pop , items , max_weight)\n",
    "        best_in_gen = max(fitness_values , key=fitness_values.get)\n",
    "        best_fitness_in_gen = fitness_values[best_in_gen]\n",
    "        \n",
    "        if best_fitness_in_gen > best_fitness:\n",
    "            best_solution = best_in_gen\n",
    "            best_fitness = best_fitness_in_gen\n",
    "        \n",
    "        print(f\"Gen {gen+1}: Best Solution = {best_in_gen}, Best Fitness = {best_fitness_in_gen}\")\n",
    "\n",
    "\n",
    "\n",
    "    return generations,best_solution,best_fitness\n"
   ]
  },
  {
   "cell_type": "markdown",
   "metadata": {},
   "source": [
    "Run Genetic Algorithm\n"
   ]
  },
  {
   "cell_type": "code",
   "execution_count": 11,
   "metadata": {},
   "outputs": [],
   "source": [
    "def decode_best_solution(sol , items):\n",
    "    selected_items = []\n",
    "    total_weight = 0\n",
    "    total_value = 0\n",
    "    for i, bit in enumerate(sol):\n",
    "        if bit == \"1\":\n",
    "            item_name = \"N\" + str(i+1)\n",
    "            value, weight = items[item_name]\n",
    "            selected_items.append((item_name , value,weight))\n",
    "            total_weight += weight\n",
    "            total_value += value\n",
    "    return selected_items, total_weight, total_value"
   ]
  },
  {
   "cell_type": "code",
   "execution_count": 13,
   "metadata": {},
   "outputs": [
    {
     "name": "stdout",
     "output_type": "stream",
     "text": [
      "Gen 1: Best Solution = 010001, Best Fitness = 38\n",
      "Gen 2: Best Solution = 110001, Best Fitness = 52\n",
      "Gen 3: Best Solution = 110001, Best Fitness = 52\n",
      "Gen 4: Best Solution = 110010, Best Fitness = 54\n",
      "Gen 5: Best Solution = 110010, Best Fitness = 54\n",
      "Gen 6: Best Solution = 110010, Best Fitness = 54\n",
      "--------------------------------\n",
      "Gen 0 : ['101111', '101100', '110001', '100100', '110101', '011011', '101101', '001101', '010000', '101111']\n",
      "Gen 1 : ['110000', '100011', '110000', '110011', '100001', '111001', '010001', '010001', '110000', '100000']\n",
      "Gen 2 : ['010001', '110000', '110000', '110101', '111001', '110101', '110000', '110001', '010000', '010001']\n",
      "Gen 3 : ['010010', '010100', '100001', '110001', '110001', '110001', '010001', '110001', '110001', '110011']\n",
      "Gen 4 : ['111011', '010001', '110101', '000101', '110000', '110010', '110001', '010001', '110000', '100011']\n",
      "Gen 5 : ['110000', '110001', '010010', '110010', '110010', '110001', '010001', '110011', '010000', '110000']\n",
      "Gen 6 : ['011101', '110011', '110001', '010011', '110010', '110010', '110001', '110001', '110000', '100010']\n",
      "Best solution : 110010\n",
      "Best values : 54\n",
      "--------------------------------\n",
      "--Selected Items in Best Solution:--\n",
      "N1 : 14 - 1\n",
      "N2 : 23 - 3\n",
      "N5 : 17 - 5\n",
      "Total Weight : 9\n",
      "Total Value : 54\n"
     ]
    }
   ],
   "source": [
    "population_size = 10\n",
    "max_generations = 6\n",
    "max_weight = 10\n",
    "mutation_rate = 0.1\n",
    "tournament_k = 3\n",
    "\n",
    "items = {\n",
    "    \"N1\" : (14,1),\n",
    "    \"N2\" : (23,3),\n",
    "    \"N3\" : (8,7),\n",
    "    \"N4\" : (9,4),\n",
    "    \"N5\" : (17,5),\n",
    "    \"N6\" : (15,6)\n",
    "}\n",
    "num_of_items = len(items)\n",
    "\n",
    "generations = {\n",
    "    \"0\" : initialize_population(population_size , num_of_items)\n",
    "}\n",
    "\n",
    "generations,best_solution,best_values = run_knapsack_problem(generations,max_generations,population_size,items,max_weight,mutation_rate,tournament_k)\n",
    "\n",
    "\n",
    "print(\"--------------------------------\")\n",
    "for gen,pop in generations.items():\n",
    "    print(f\"Gen {gen} : {pop}\")\n",
    "    \n",
    "print(f\"Best solution : {best_solution}\")\n",
    "print(f\"Best values : {best_values}\")\n",
    "print(\"--------------------------------\")\n",
    "\n",
    "selected_items , total_weight , total_value = decode_best_solution(best_solution,items)\n",
    "print(\"--Selected Items in Best Solution:--\")\n",
    "for item,weight,value in selected_items:\n",
    "    print(f\"{item} : {weight} - {value}\")\n",
    "\n",
    "print(f\"Total Weight : {total_weight}\")\n",
    "print(f\"Total Value : {total_value}\")\n",
    "\n"
   ]
  }
 ],
 "metadata": {
  "kernelspec": {
   "display_name": "Python 3",
   "language": "python",
   "name": "python3"
  },
  "language_info": {
   "codemirror_mode": {
    "name": "ipython",
    "version": 3
   },
   "file_extension": ".py",
   "mimetype": "text/x-python",
   "name": "python",
   "nbconvert_exporter": "python",
   "pygments_lexer": "ipython3",
   "version": "3.11.8"
  }
 },
 "nbformat": 4,
 "nbformat_minor": 2
}
