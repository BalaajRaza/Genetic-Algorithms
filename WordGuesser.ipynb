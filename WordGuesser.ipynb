{
 "cells": [
  {
   "cell_type": "markdown",
   "metadata": {},
   "source": [
    "# Word Guesser using Genetic Algorithm\n"
   ]
  },
  {
   "cell_type": "markdown",
   "metadata": {},
   "source": [
    "Fitness Function"
   ]
  },
  {
   "cell_type": "code",
   "execution_count": 24,
   "metadata": {},
   "outputs": [],
   "source": [
    "def fitness_function(chromosome, actualword):\n",
    "    fitness_score = 0\n",
    "    for b,c in zip(chromosome,actualword):\n",
    "        if b==c:\n",
    "            fitness_score+=1\n",
    "    \n",
    "    return fitness_score\n"
   ]
  },
  {
   "cell_type": "markdown",
   "metadata": {},
   "source": [
    "Evaluation Function"
   ]
  },
  {
   "cell_type": "code",
   "execution_count": 25,
   "metadata": {},
   "outputs": [],
   "source": [
    "def evaluation_function(population ,actualword,word_length):\n",
    "    fitness_values = {chrom:fitness_function(chrom,actualword) for chrom in population}\n",
    "    return fitness_values\n"
   ]
  },
  {
   "cell_type": "markdown",
   "metadata": {},
   "source": [
    "Selection Function"
   ]
  },
  {
   "cell_type": "code",
   "execution_count": 26,
   "metadata": {},
   "outputs": [],
   "source": [
    "import random\n",
    "def tournament_selection(population , fitness_values , k=3):\n",
    "    selected_chroms = random.sample(population,k)\n",
    "    selected_chroms.sort(key=lambda chrom:fitness_values[chrom],reverse=True)\n",
    "    return selected_chroms[0]"
   ]
  },
  {
   "cell_type": "markdown",
   "metadata": {},
   "source": [
    "Crossover Function"
   ]
  },
  {
   "cell_type": "code",
   "execution_count": 27,
   "metadata": {},
   "outputs": [],
   "source": [
    "def crossover_function(chromA , chromB):\n",
    "    cut_point = random.randint(1, len(chromA) - 2)\n",
    "    child1 = chromA[:cut_point] + chromB[cut_point:]\n",
    "    child2 = chromB[:cut_point] + chromA[cut_point:]\n",
    "    return child1, child2\n",
    "    "
   ]
  },
  {
   "cell_type": "markdown",
   "metadata": {},
   "source": [
    "Mutation Function"
   ]
  },
  {
   "cell_type": "code",
   "execution_count": 28,
   "metadata": {},
   "outputs": [
    {
     "name": "stdout",
     "output_type": "stream",
     "text": [
      "Original: balaaj\n",
      "Mutated:  bslaaj\n"
     ]
    }
   ],
   "source": [
    "import string\n",
    "\n",
    "def mutation_function(chromosome, mutation_rate=0.1):\n",
    "    mutated_chromosome = list(chromosome)\n",
    "\n",
    "    for i in range(len(mutated_chromosome)):\n",
    "        if random.random() < mutation_rate:\n",
    "            new_char = random.choice(string.ascii_lowercase.replace(mutated_chromosome[i], ''))\n",
    "            mutated_chromosome[i] = new_char\n",
    "\n",
    "    return \"\".join(mutated_chromosome)\n",
    "\n",
    "chromosome = \"balaaj\"\n",
    "mutated_chromosome = mutation_function(chromosome, mutation_rate=0.3)\n",
    "print(f\"Original: {chromosome}\")\n",
    "print(f\"Mutated:  {mutated_chromosome}\")"
   ]
  },
  {
   "cell_type": "markdown",
   "metadata": {},
   "source": [
    "Run Genetic Algorithm"
   ]
  },
  {
   "cell_type": "code",
   "execution_count": 29,
   "metadata": {},
   "outputs": [],
   "source": [
    "def evolve_generation(generations , gen_num ,actualword,population_size,mutation_rate=0.1,tournament_k=3):\n",
    "    word_length = len(actualword)\n",
    "    population = generations[str(gen_num)]\n",
    "    fitness_values = evaluation_function(population,actualword,word_length)\n",
    "\n",
    "    new_population = []\n",
    "    for _ in range(population_size // 2):\n",
    "        parent1 = tournament_selection(population,fitness_values,tournament_k)\n",
    "        parent2 = tournament_selection(population,fitness_values,tournament_k)\n",
    "        child1,child2 = crossover_function(parent1,parent2)\n",
    "        new_population.extend([child1,child2])\n",
    "    \n",
    "    new_population = [mutation_function(chrom,mutation_rate) for chrom in new_population]\n",
    "\n",
    "    generations[str(gen_num+1)] = new_population\n",
    "    return generations"
   ]
  },
  {
   "cell_type": "markdown",
   "metadata": {},
   "source": [
    "Driver Function"
   ]
  },
  {
   "cell_type": "code",
   "execution_count": 34,
   "metadata": {},
   "outputs": [],
   "source": [
    "def run_word_guesser(generations,max_generations,population_size,actualword,mutation_rate=0.1,tournament_k=3):\n",
    "    solution = None\n",
    "\n",
    "    for gen in range(max_generations):\n",
    "        fitness_values = evaluation_function(generations[str(gen)] , actualword , len(actualword))\n",
    "\n",
    "        best_chromosome = max(fitness_values,key=fitness_values.get)\n",
    "        best_fitness = fitness_values[best_chromosome]\n",
    "\n",
    "        print(f\"Gen {gen}: Best = {best_chromosome} | Fitness = {best_fitness}\")\n",
    "\n",
    "        if best_fitness == len(actualword):\n",
    "            solution = best_chromosome\n",
    "            break\n",
    "        \n",
    "        generations = evolve_generation(generations, gen, actualword, population_size, mutation_rate, tournament_k)\n",
    "\n",
    "    if solution:\n",
    "        print(f\"\\n Solution found in Generation {gen}: {solution}\")\n",
    "    else:\n",
    "        print(\"\\nMax generations reached. Best guess:\", best_chromosome)\n",
    "\n",
    "    return solution ,generations\n"
   ]
  },
  {
   "cell_type": "code",
   "execution_count": 31,
   "metadata": {},
   "outputs": [],
   "source": [
    "import random\n",
    "import string\n",
    "def initialize_population(population_size, word_length):\n",
    "    population = []\n",
    "    for _ in range(population_size):\n",
    "        individual = \"\".join(random.choice(string.ascii_lowercase) for _ in range(word_length))\n",
    "        population.append(individual)\n",
    "    return population\n"
   ]
  },
  {
   "cell_type": "code",
   "execution_count": 35,
   "metadata": {},
   "outputs": [
    {
     "name": "stdout",
     "output_type": "stream",
     "text": [
      "Gen 0: Best = fnoqgi | Fitness = 2\n",
      "Gen 1: Best = pkrngn | Fitness = 2\n",
      "Gen 2: Best = marngn | Fitness = 3\n",
      "Gen 3: Best = farngn | Fitness = 4\n",
      "Gen 4: Best = fayigd | Fitness = 4\n",
      "Gen 5: Best = fagigr | Fitness = 4\n",
      "Gen 6: Best = fagigv | Fitness = 4\n",
      "Gen 7: Best = farigv | Fitness = 5\n",
      "Gen 8: Best = farigp | Fitness = 5\n",
      "Gen 9: Best = farign | Fitness = 5\n",
      "Gen 10: Best = farign | Fitness = 5\n",
      "Gen 11: Best = farigp | Fitness = 5\n",
      "Gen 12: Best = farigv | Fitness = 5\n",
      "Gen 13: Best = farigt | Fitness = 5\n",
      "Gen 14: Best = farikh | Fitness = 5\n",
      "Gen 15: Best = farigh | Fitness = 6\n",
      "\n",
      " Solution found in Generation 15: farigh\n"
     ]
    }
   ],
   "source": [
    "actualword = input(\"Enter a word to guess : \")\n",
    "actualword = \"\".join(c.lower() for c in actualword)\n",
    "\n",
    "population_size = 50\n",
    "max_gens = 50\n",
    "mutation_rate = 0.1\n",
    "tournament_k = 3\n",
    "\n",
    "\n",
    "generations = {\n",
    "    \"0\" : initialize_population(population_size,len(actualword))\n",
    "}\n",
    "\n",
    "guess, generations = run_word_guesser(generations,max_gens,population_size,actualword,mutation_rate,tournament_k)"
   ]
  },
  {
   "cell_type": "code",
   "execution_count": null,
   "metadata": {},
   "outputs": [],
   "source": []
  }
 ],
 "metadata": {
  "kernelspec": {
   "display_name": "Python 3",
   "language": "python",
   "name": "python3"
  },
  "language_info": {
   "codemirror_mode": {
    "name": "ipython",
    "version": 3
   },
   "file_extension": ".py",
   "mimetype": "text/x-python",
   "name": "python",
   "nbconvert_exporter": "python",
   "pygments_lexer": "ipython3",
   "version": "3.11.8"
  }
 },
 "nbformat": 4,
 "nbformat_minor": 2
}
